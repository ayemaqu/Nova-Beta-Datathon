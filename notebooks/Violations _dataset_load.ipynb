{
 "cells": [
  {
   "cell_type": "code",
   "execution_count": 1,
   "id": "ed1b2372",
   "metadata": {},
   "outputs": [],
   "source": [
    "import sqlite3\n",
    "import pandas as pd"
   ]
  },
  {
   "cell_type": "code",
   "execution_count": null,
   "id": "c62872ad",
   "metadata": {},
   "outputs": [],
   "source": [
    "# Step 1: Load the files\n",
    "csv_file = \"MTA_Bus_Automated_Camera_Enforcement_Violations__Beginning_October_2019_20250917.csv\"\n",
    "db_file = \"mta_ace.db\"\n",
    "table_name = \"violations\""
   ]
  },
  {
   "cell_type": "code",
   "execution_count": null,
   "id": "b7bfd2ea",
   "metadata": {},
   "outputs": [],
   "source": [
    "# Step 2: Connect to SQLite\n",
    "conn = sqlite3.connect(db_file)"
   ]
  },
  {
   "cell_type": "markdown",
   "id": "4110f499",
   "metadata": {},
   "source": [
    "Note: Don’t try to load the whole giant CSV at once — instead, read 100,000 rows at a time.\n",
    "- Since our CSV has 3.7 million rows, this will break it into ~38 pieces (chunks)"
   ]
  },
  {
   "cell_type": "code",
   "execution_count": null,
   "id": "1ada3d68",
   "metadata": {},
   "outputs": [
    {
     "name": "stdout",
     "output_type": "stream",
     "text": [
      "✅ Inserted chunk 1\n",
      "✅ Inserted chunk 2\n",
      "✅ Inserted chunk 3\n",
      "✅ Inserted chunk 4\n",
      "✅ Inserted chunk 5\n",
      "✅ Inserted chunk 6\n",
      "✅ Inserted chunk 7\n",
      "✅ Inserted chunk 8\n",
      "✅ Inserted chunk 9\n",
      "✅ Inserted chunk 10\n",
      "✅ Inserted chunk 11\n",
      "✅ Inserted chunk 12\n",
      "✅ Inserted chunk 13\n",
      "✅ Inserted chunk 14\n",
      "✅ Inserted chunk 15\n",
      "✅ Inserted chunk 16\n",
      "✅ Inserted chunk 17\n",
      "✅ Inserted chunk 18\n",
      "✅ Inserted chunk 19\n",
      "✅ Inserted chunk 20\n",
      "✅ Inserted chunk 21\n",
      "✅ Inserted chunk 22\n",
      "✅ Inserted chunk 23\n",
      "✅ Inserted chunk 24\n",
      "✅ Inserted chunk 25\n",
      "✅ Inserted chunk 26\n",
      "✅ Inserted chunk 27\n",
      "✅ Inserted chunk 28\n",
      "✅ Inserted chunk 29\n",
      "✅ Inserted chunk 30\n",
      "✅ Inserted chunk 31\n",
      "✅ Inserted chunk 32\n",
      "✅ Inserted chunk 33\n",
      "✅ Inserted chunk 34\n",
      "✅ Inserted chunk 35\n",
      "✅ Inserted chunk 36\n",
      "✅ Inserted chunk 37\n",
      "✅ Inserted chunk 38\n"
     ]
    }
   ],
   "source": [
    "# Step 3: Load CSV in chunks to avoid memory issues \n",
    "chunksize = 100_000 # python does not like commas, I prefer to write big numbers with _ which is a substitute for commas (for better understanding)\n",
    "\n",
    "for i, chunk in enumerate(pd.read_csv(csv_file, chunksize=chunksize)):\n",
    "    # Write chunk into the database\n",
    "    chunk.to_sql(table_name, conn, if_exists=\"append\", index=False)\n",
    "    print(f\"✅ Inserted chunk {i+1}\")\n"
   ]
  },
  {
   "cell_type": "code",
   "execution_count": null,
   "id": "b1148f04",
   "metadata": {},
   "outputs": [
    {
     "name": "stdout",
     "output_type": "stream",
     "text": [
      "Done! CSV imported into SQLite database: mta_ace.db\n"
     ]
    }
   ],
   "source": [
    "# Step 4: Close connection \n",
    "conn.close()\n",
    "print(\"Done! CSV imported into SQLite database:\", db_file)\n"
   ]
  },
  {
   "cell_type": "markdown",
   "id": "91c9debc",
   "metadata": {},
   "source": [
    "Are low-income and transit-dependent communities receiving the same benefits from ACE as other areas? If not, where should the program expand to ensure equity?"
   ]
  },
  {
   "cell_type": "code",
   "execution_count": null,
   "id": "17583a50",
   "metadata": {},
   "outputs": [],
   "source": []
  },
  {
   "cell_type": "code",
   "execution_count": null,
   "id": "91f16c75",
   "metadata": {},
   "outputs": [],
   "source": []
  },
  {
   "cell_type": "code",
   "execution_count": null,
   "id": "516b3ebe",
   "metadata": {},
   "outputs": [],
   "source": []
  }
 ],
 "metadata": {
  "kernelspec": {
   "display_name": "base",
   "language": "python",
   "name": "python3"
  },
  "language_info": {
   "codemirror_mode": {
    "name": "ipython",
    "version": 3
   },
   "file_extension": ".py",
   "mimetype": "text/x-python",
   "name": "python",
   "nbconvert_exporter": "python",
   "pygments_lexer": "ipython3",
   "version": "3.12.7"
  }
 },
 "nbformat": 4,
 "nbformat_minor": 5
}
