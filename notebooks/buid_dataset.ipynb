{
 "cells": [
  {
   "cell_type": "code",
   "execution_count": null,
   "id": "30589593",
   "metadata": {},
   "outputs": [],
   "source": [
    "\"\"\"\n",
    "Step 2: Build ACS dataset for analysis\n",
    "--------------------------------------\n",
    "This script is broken into 3 parts: \n",
    "1. Collapses the poverty table into a simplified version(this dataset is sooo detailed hol)\n",
    "2. Joins poverty, median income, and total population\n",
    "3. Adds census equivalency mapping (tract -> borough/NTA/CDTA)\n",
    "\"\"\""
   ]
  },
  {
   "cell_type": "code",
   "execution_count": 22,
   "id": "1baa9dc7",
   "metadata": {},
   "outputs": [],
   "source": [
    "import sqlite3\n",
    "import pandas as pd\n",
    "# Connect to my sqlite database\n",
    "db_path = \"/Users/ayemaq/Desktop/Datathon/mta_equity.db\"   \n",
    "conn = sqlite3.connect(db_path)\n",
    "cur = conn.cursor()"
   ]
  },
  {
   "cell_type": "code",
   "execution_count": 2,
   "id": "d2838dc7",
   "metadata": {},
   "outputs": [
    {
     "data": {
      "text/plain": [
       "<sqlite3.Cursor at 0x11ed4a940>"
      ]
     },
     "execution_count": 2,
     "metadata": {},
     "output_type": "execute_result"
    }
   ],
   "source": [
    "# step 1: collpase poverty table\n",
    "#poverty = pd.read_csv(\"poverty.csv\", skiprows=0)  # adjust skiprows if needed\n",
    "\n",
    "collapse_poverty = \"\"\"\n",
    "CREATE TABLE IF NOT EXISTS poverty_simple AS\n",
    "SELECT \n",
    "    GEO_ID,\n",
    "    NAME,\n",
    "    B17021_001E AS total_for_poverty,\n",
    "    -- Sum of people in poverty (bins 002–017)\n",
    "    (B17021_002E + B17021_003E + B17021_004E + B17021_005E +\n",
    "     B17021_006E + B17021_007E + B17021_008E + B17021_009E +\n",
    "     B17021_010E + B17021_011E + B17021_012E + B17021_013E +\n",
    "     B17021_014E + B17021_015E + B17021_016E + B17021_017E) AS in_poverty,\n",
    "    -- Sum of people not in poverty (bins 018–035)\n",
    "    (B17021_018E + B17021_019E + B17021_020E + B17021_021E +\n",
    "     B17021_022E + B17021_023E + B17021_024E + B17021_025E +\n",
    "     B17021_026E + B17021_027E + B17021_028E + B17021_029E +\n",
    "     B17021_030E + B17021_031E + B17021_032E + B17021_033E +\n",
    "     B17021_034E + B17021_035E) AS not_in_poverty,\n",
    "    -- Poverty rate\n",
    "    (CAST(\n",
    "        (B17021_002E + B17021_003E + B17021_004E + B17021_005E +\n",
    "         B17021_006E + B17021_007E + B17021_008E + B17021_009E +\n",
    "         B17021_010E + B17021_011E + B17021_012E + B17021_013E +\n",
    "         B17021_014E + B17021_015E + B17021_016E + B17021_017E) AS FLOAT\n",
    "     ) / NULLIF(B17021_001E,0)) AS poverty_rate\n",
    "FROM poverty;\n",
    "\"\"\"\n",
    "cur.execute(\"DROP TABLE IF EXISTS poverty_simple;\")  # refresh if re-running\n",
    "cur.execute(collapse_poverty)\n"
   ]
  },
  {
   "cell_type": "code",
   "execution_count": null,
   "id": "214cc269",
   "metadata": {},
   "outputs": [
    {
     "data": {
      "text/plain": [
       "<sqlite3.Cursor at 0x11ed4a940>"
      ]
     },
     "execution_count": 6,
     "metadata": {},
     "output_type": "execute_result"
    }
   ],
   "source": [
    "# step 2: join poverty, median income, and population\n",
    "join_acs = \"\"\"\n",
    "CREATE TABLE IF NOT EXISTS acs_joined AS\n",
    "SELECT \n",
    "    m.GEO_ID,\n",
    "    m.NAME,\n",
    "    m.B19013_001E AS median_income,\n",
    "    pop.B01003_001E AS total_population,\n",
    "    ps.in_poverty,\n",
    "    ps.not_in_poverty,\n",
    "    ps.poverty_rate\n",
    "FROM median_income m\n",
    "JOIN poverty_simple ps\n",
    "    ON m.GEO_ID = ps.GEO_ID\n",
    "JOIN population pop \n",
    "    ON m.GEO_ID = pop.GEO_ID;\n",
    "\"\"\"\n",
    "cur.execute(\"DROP TABLE IF EXISTS acs_joined;\")\n",
    "cur.execute(join_acs)\n"
   ]
  },
  {
   "cell_type": "markdown",
   "id": "08cd0db2",
   "metadata": {},
   "source": [
    "##### Sanity checks for step 2\n",
    "- The follow blocks are to double check my queries"
   ]
  },
  {
   "cell_type": "code",
   "execution_count": null,
   "id": "369a399a",
   "metadata": {},
   "outputs": [
    {
     "data": {
      "text/html": [
       "<div>\n",
       "<style scoped>\n",
       "    .dataframe tbody tr th:only-of-type {\n",
       "        vertical-align: middle;\n",
       "    }\n",
       "\n",
       "    .dataframe tbody tr th {\n",
       "        vertical-align: top;\n",
       "    }\n",
       "\n",
       "    .dataframe thead th {\n",
       "        text-align: right;\n",
       "    }\n",
       "</style>\n",
       "<table border=\"1\" class=\"dataframe\">\n",
       "  <thead>\n",
       "    <tr style=\"text-align: right;\">\n",
       "      <th></th>\n",
       "      <th>GEO_ID</th>\n",
       "      <th>NAME</th>\n",
       "      <th>median_income</th>\n",
       "      <th>total_population</th>\n",
       "      <th>in_poverty</th>\n",
       "      <th>not_in_poverty</th>\n",
       "      <th>poverty_rate</th>\n",
       "    </tr>\n",
       "  </thead>\n",
       "  <tbody>\n",
       "    <tr>\n",
       "      <th>0</th>\n",
       "      <td>Geography</td>\n",
       "      <td>Geographic Area Name</td>\n",
       "      <td>Estimate!!Median household income in the past ...</td>\n",
       "      <td>Estimate!!Total</td>\n",
       "      <td>0</td>\n",
       "      <td>0</td>\n",
       "      <td>NaN</td>\n",
       "    </tr>\n",
       "    <tr>\n",
       "      <th>1</th>\n",
       "      <td>1400000US36005000100</td>\n",
       "      <td>Census Tract 1; Bronx County; New York</td>\n",
       "      <td>-</td>\n",
       "      <td>3538</td>\n",
       "      <td>0</td>\n",
       "      <td>0</td>\n",
       "      <td>NaN</td>\n",
       "    </tr>\n",
       "    <tr>\n",
       "      <th>2</th>\n",
       "      <td>1400000US36005000200</td>\n",
       "      <td>Census Tract 2; Bronx County; New York</td>\n",
       "      <td>121171</td>\n",
       "      <td>5177</td>\n",
       "      <td>3301</td>\n",
       "      <td>19274</td>\n",
       "      <td>0.637628</td>\n",
       "    </tr>\n",
       "    <tr>\n",
       "      <th>3</th>\n",
       "      <td>1400000US36005000400</td>\n",
       "      <td>Census Tract 4; Bronx County; New York</td>\n",
       "      <td>98242</td>\n",
       "      <td>6481</td>\n",
       "      <td>1391</td>\n",
       "      <td>27016</td>\n",
       "      <td>0.214627</td>\n",
       "    </tr>\n",
       "    <tr>\n",
       "      <th>4</th>\n",
       "      <td>1400000US36005001600</td>\n",
       "      <td>Census Tract 16; Bronx County; New York</td>\n",
       "      <td>42957</td>\n",
       "      <td>6011</td>\n",
       "      <td>4219</td>\n",
       "      <td>21256</td>\n",
       "      <td>0.732592</td>\n",
       "    </tr>\n",
       "  </tbody>\n",
       "</table>\n",
       "</div>"
      ],
      "text/plain": [
       "                 GEO_ID                                     NAME  \\\n",
       "0             Geography                     Geographic Area Name   \n",
       "1  1400000US36005000100   Census Tract 1; Bronx County; New York   \n",
       "2  1400000US36005000200   Census Tract 2; Bronx County; New York   \n",
       "3  1400000US36005000400   Census Tract 4; Bronx County; New York   \n",
       "4  1400000US36005001600  Census Tract 16; Bronx County; New York   \n",
       "\n",
       "                                       median_income total_population  \\\n",
       "0  Estimate!!Median household income in the past ...  Estimate!!Total   \n",
       "1                                                  -             3538   \n",
       "2                                             121171             5177   \n",
       "3                                              98242             6481   \n",
       "4                                              42957             6011   \n",
       "\n",
       "   in_poverty  not_in_poverty  poverty_rate  \n",
       "0           0               0           NaN  \n",
       "1           0               0           NaN  \n",
       "2        3301           19274      0.637628  \n",
       "3        1391           27016      0.214627  \n",
       "4        4219           21256      0.732592  "
      ]
     },
     "execution_count": 8,
     "metadata": {},
     "output_type": "execute_result"
    }
   ],
   "source": [
    "# sanity check\n",
    "df = pd.read_sql_query(\"SELECT * FROM acs_joined LIMIT 5;\", conn)\n",
    "df"
   ]
  },
  {
   "cell_type": "code",
   "execution_count": 9,
   "id": "891d34f2",
   "metadata": {},
   "outputs": [
    {
     "name": "stdout",
     "output_type": "stream",
     "text": [
      "(5, 7)\n",
      "GEO_ID              0\n",
      "NAME                0\n",
      "median_income       0\n",
      "total_population    0\n",
      "in_poverty          0\n",
      "not_in_poverty      0\n",
      "poverty_rate        2\n",
      "dtype: int64\n"
     ]
    }
   ],
   "source": [
    "print(df.shape)  # how many rows & columns\n",
    "print(df.isna().sum())  # how many missing values per column\n"
   ]
  },
  {
   "cell_type": "code",
   "execution_count": 10,
   "id": "d9dfb6c3",
   "metadata": {},
   "outputs": [],
   "source": [
    "df = df[df[\"GEO_ID\"] != \"Geography\"]\n"
   ]
  },
  {
   "cell_type": "code",
   "execution_count": 11,
   "id": "1bcbdce9",
   "metadata": {},
   "outputs": [
    {
     "name": "stdout",
     "output_type": "stream",
     "text": [
      "(4, 7)\n",
      "GEO_ID              0\n",
      "NAME                0\n",
      "median_income       0\n",
      "total_population    0\n",
      "in_poverty          0\n",
      "not_in_poverty      0\n",
      "poverty_rate        1\n",
      "dtype: int64\n"
     ]
    }
   ],
   "source": [
    "print(df.shape)  # how many rows & columns\n",
    "print(df.isna().sum())  # how many missing values per column\n"
   ]
  },
  {
   "cell_type": "code",
   "execution_count": 12,
   "id": "dd5503b8",
   "metadata": {},
   "outputs": [
    {
     "name": "stdout",
     "output_type": "stream",
     "text": [
      "      n\n",
      "0  2018\n"
     ]
    }
   ],
   "source": [
    "total_rows = pd.read_sql_query(\"SELECT COUNT(*) as n FROM acs_joined;\", conn)\n",
    "print(total_rows)\n"
   ]
  },
  {
   "cell_type": "code",
   "execution_count": 14,
   "id": "243af83b",
   "metadata": {},
   "outputs": [
    {
     "data": {
      "text/plain": [
       "<Axes: >"
      ]
     },
     "execution_count": 14,
     "metadata": {},
     "output_type": "execute_result"
    },
    {
     "data": {
      "image/png": "[encoded data removed]",
      "text/plain": [
       "<Figure size 640x480 with 1 Axes>"
      ]
     },
     "metadata": {},
     "output_type": "display_data"
    }
   ],
   "source": [
    "df = pd.read_sql_query(\"SELECT * FROM acs_joined;\", conn)\n",
    "df[\"poverty_rate\"].hist(bins=30)\n"
   ]
  },
  {
   "cell_type": "markdown",
   "id": "4593c455",
   "metadata": {},
   "source": [
    "##### Step 3: Add census equivalency mapping (tract → borough/NTA/CDTA)"
   ]
  },
  {
   "cell_type": "code",
   "execution_count": 19,
   "id": "e53f19f3",
   "metadata": {},
   "outputs": [],
   "source": [
    "add_mapping = \"\"\"\n",
    "CREATE TABLE IF NOT EXISTS acs_with_mapping AS\n",
    "SELECT \n",
    "    a.*,\n",
    "    ce.BOROCODE,\n",
    "    ce.BORONAME,\n",
    "    ce.NTACODE,\n",
    "    ce.NTANAME,\n",
    "    ce.CDTACODE,\n",
    "    ce.CDTANAME\n",
    "FROM acs_joined a\n",
    "JOIN census_equivalency ce\n",
    "    ON a.GEO_ID = ce.GEOID;\n",
    "\"\"\"\n",
    "cur.execute(\"DROP TABLE IF EXISTS acs_with_mapping;\")\n",
    "cur.execute(add_mapping)\n",
    "\n",
    "conn.commit()\n"
   ]
  },
  {
   "cell_type": "code",
   "execution_count": null,
   "id": "c0cde270",
   "metadata": {},
   "outputs": [
    {
     "name": "stdout",
     "output_type": "stream",
     "text": [
      "Empty DataFrame\n",
      "Columns: [GEO_ID, NAME, median_income, total_population, in_poverty, not_in_poverty, poverty_rate, BOROCODE, BORONAME, NTACODE, NTANAME, CDTACODE, CDTANAME]\n",
      "Index: []\n"
     ]
    }
   ],
   "source": [
    "df = pd.read_sql_query(\"SELECT * FROM acs_with_mapping LIMIT 10;\", conn)\n",
    "print(df)\n",
    "\n",
    "#conn.close()\n"
   ]
  },
  {
   "cell_type": "markdown",
   "id": "8ff7f8ed",
   "metadata": {},
   "source": [
    "SO.... no rows huh....\n",
    "\n",
    "because: \n",
    "\n",
    "acs_joined has prefix \"1400000US\" before the census tract code (GEO_ID = 1400000US36005000100)\n",
    "census_equivalency has GEOID = 36005001901\n"
   ]
  },
  {
   "cell_type": "code",
   "execution_count": 23,
   "id": "945567a4",
   "metadata": {},
   "outputs": [
    {
     "name": "stdout",
     "output_type": "stream",
     "text": [
      "                 GEO_ID\n",
      "0             Geography\n",
      "1  1400000US36005000100\n",
      "2  1400000US36005000200\n",
      "3  1400000US36005000400\n",
      "4  1400000US36005001600\n",
      "         GEOID\n",
      "0  36005001901\n",
      "1  36005001902\n",
      "2  36005001903\n",
      "3  36005002300\n",
      "4  36005002500\n"
     ]
    }
   ],
   "source": [
    "print(pd.read_sql_query(\"SELECT GEO_ID FROM acs_joined LIMIT 5;\", conn))\n",
    "print(pd.read_sql_query(\"SELECT GEOID FROM census_equivalency LIMIT 5;\", conn))\n"
   ]
  },
  {
   "cell_type": "code",
   "execution_count": 29,
   "id": "f57e101c",
   "metadata": {},
   "outputs": [
    {
     "data": {
      "text/html": [
       "<div>\n",
       "<style scoped>\n",
       "    .dataframe tbody tr th:only-of-type {\n",
       "        vertical-align: middle;\n",
       "    }\n",
       "\n",
       "    .dataframe tbody tr th {\n",
       "        vertical-align: top;\n",
       "    }\n",
       "\n",
       "    .dataframe thead th {\n",
       "        text-align: right;\n",
       "    }\n",
       "</style>\n",
       "<table border=\"1\" class=\"dataframe\">\n",
       "  <thead>\n",
       "    <tr style=\"text-align: right;\">\n",
       "      <th></th>\n",
       "      <th>GEO_ID</th>\n",
       "      <th>NAME</th>\n",
       "      <th>median_income</th>\n",
       "      <th>total_population</th>\n",
       "      <th>in_poverty</th>\n",
       "      <th>not_in_poverty</th>\n",
       "      <th>poverty_rate</th>\n",
       "      <th>BOROCODE</th>\n",
       "      <th>BORONAME</th>\n",
       "      <th>NTACODE</th>\n",
       "      <th>NTANAME</th>\n",
       "      <th>CT2020</th>\n",
       "      <th>CTLABEL</th>\n",
       "      <th>CDTACODE</th>\n",
       "      <th>CDTANAME</th>\n",
       "    </tr>\n",
       "  </thead>\n",
       "  <tbody>\n",
       "    <tr>\n",
       "      <th>0</th>\n",
       "      <td>1400000US36005000100</td>\n",
       "      <td>Census Tract 1; Bronx County; New York</td>\n",
       "      <td>-</td>\n",
       "      <td>3538</td>\n",
       "      <td>0</td>\n",
       "      <td>0</td>\n",
       "      <td>NaN</td>\n",
       "      <td>2</td>\n",
       "      <td>Bronx</td>\n",
       "      <td>QN0151</td>\n",
       "      <td>Rikers Island</td>\n",
       "      <td>100</td>\n",
       "      <td>1.00</td>\n",
       "      <td>QN01</td>\n",
       "      <td>QN01 Astoria-Queensbridge (CD 1 Equivalent)</td>\n",
       "    </tr>\n",
       "    <tr>\n",
       "      <th>1</th>\n",
       "      <td>1400000US36005000200</td>\n",
       "      <td>Census Tract 2; Bronx County; New York</td>\n",
       "      <td>121171</td>\n",
       "      <td>5177</td>\n",
       "      <td>3301</td>\n",
       "      <td>19274</td>\n",
       "      <td>0.637628</td>\n",
       "      <td>2</td>\n",
       "      <td>Bronx</td>\n",
       "      <td>BX0902</td>\n",
       "      <td>Soundview-Clason Point</td>\n",
       "      <td>200</td>\n",
       "      <td>2.00</td>\n",
       "      <td>BX09</td>\n",
       "      <td>BX09 Soundview-Parkchester (CD 9 Approximation)</td>\n",
       "    </tr>\n",
       "    <tr>\n",
       "      <th>2</th>\n",
       "      <td>1400000US36005000400</td>\n",
       "      <td>Census Tract 4; Bronx County; New York</td>\n",
       "      <td>98242</td>\n",
       "      <td>6481</td>\n",
       "      <td>1391</td>\n",
       "      <td>27016</td>\n",
       "      <td>0.214627</td>\n",
       "      <td>2</td>\n",
       "      <td>Bronx</td>\n",
       "      <td>BX0902</td>\n",
       "      <td>Soundview-Clason Point</td>\n",
       "      <td>400</td>\n",
       "      <td>4.00</td>\n",
       "      <td>BX09</td>\n",
       "      <td>BX09 Soundview-Parkchester (CD 9 Approximation)</td>\n",
       "    </tr>\n",
       "    <tr>\n",
       "      <th>3</th>\n",
       "      <td>1400000US36005001600</td>\n",
       "      <td>Census Tract 16; Bronx County; New York</td>\n",
       "      <td>42957</td>\n",
       "      <td>6011</td>\n",
       "      <td>4219</td>\n",
       "      <td>21256</td>\n",
       "      <td>0.732592</td>\n",
       "      <td>2</td>\n",
       "      <td>Bronx</td>\n",
       "      <td>BX0902</td>\n",
       "      <td>Soundview-Clason Point</td>\n",
       "      <td>1600</td>\n",
       "      <td>16.00</td>\n",
       "      <td>BX09</td>\n",
       "      <td>BX09 Soundview-Parkchester (CD 9 Approximation)</td>\n",
       "    </tr>\n",
       "    <tr>\n",
       "      <th>4</th>\n",
       "      <td>1400000US36005001901</td>\n",
       "      <td>Census Tract 19.01; Bronx County; New York</td>\n",
       "      <td>67361</td>\n",
       "      <td>2401</td>\n",
       "      <td>3310</td>\n",
       "      <td>7261</td>\n",
       "      <td>1.381469</td>\n",
       "      <td>2</td>\n",
       "      <td>Bronx</td>\n",
       "      <td>BX0101</td>\n",
       "      <td>Mott Haven-Port Morris</td>\n",
       "      <td>1901</td>\n",
       "      <td>19.01</td>\n",
       "      <td>BX01</td>\n",
       "      <td>BX01 Melrose-Mott Haven-Port Morris (CD 1 Appr...</td>\n",
       "    </tr>\n",
       "  </tbody>\n",
       "</table>\n",
       "</div>"
      ],
      "text/plain": [
       "                 GEO_ID                                        NAME  \\\n",
       "0  1400000US36005000100      Census Tract 1; Bronx County; New York   \n",
       "1  1400000US36005000200      Census Tract 2; Bronx County; New York   \n",
       "2  1400000US36005000400      Census Tract 4; Bronx County; New York   \n",
       "3  1400000US36005001600     Census Tract 16; Bronx County; New York   \n",
       "4  1400000US36005001901  Census Tract 19.01; Bronx County; New York   \n",
       "\n",
       "  median_income total_population  in_poverty  not_in_poverty  poverty_rate  \\\n",
       "0             -             3538           0               0           NaN   \n",
       "1        121171             5177        3301           19274      0.637628   \n",
       "2         98242             6481        1391           27016      0.214627   \n",
       "3         42957             6011        4219           21256      0.732592   \n",
       "4         67361             2401        3310            7261      1.381469   \n",
       "\n",
       "   BOROCODE BORONAME NTACODE                 NTANAME  CT2020  CTLABEL  \\\n",
       "0         2    Bronx  QN0151           Rikers Island     100     1.00   \n",
       "1         2    Bronx  BX0902  Soundview-Clason Point     200     2.00   \n",
       "2         2    Bronx  BX0902  Soundview-Clason Point     400     4.00   \n",
       "3         2    Bronx  BX0902  Soundview-Clason Point    1600    16.00   \n",
       "4         2    Bronx  BX0101  Mott Haven-Port Morris    1901    19.01   \n",
       "\n",
       "  CDTACODE                                           CDTANAME  \n",
       "0     QN01        QN01 Astoria-Queensbridge (CD 1 Equivalent)  \n",
       "1     BX09    BX09 Soundview-Parkchester (CD 9 Approximation)  \n",
       "2     BX09    BX09 Soundview-Parkchester (CD 9 Approximation)  \n",
       "3     BX09    BX09 Soundview-Parkchester (CD 9 Approximation)  \n",
       "4     BX01  BX01 Melrose-Mott Haven-Port Morris (CD 1 Appr...  "
      ]
     },
     "execution_count": 29,
     "metadata": {},
     "output_type": "execute_result"
    }
   ],
   "source": [
    "add_mapping = \"\"\"\n",
    "CREATE TABLE IF NOT EXISTS acs_with_mapping AS\n",
    "SELECT\n",
    "    a.*,\n",
    "    ce.BOROCODE,\n",
    "    ce.BORONAME,\n",
    "    ce.NTACODE,\n",
    "    ce.NTANAME,\n",
    "    ce.CT2020,\n",
    "    ce.CTLABEL,\n",
    "    ce.CDTACODE,\n",
    "    ce.CDTANAME\n",
    "FROM acs_joined a\n",
    "JOIN census_equivalency ce\n",
    "    -- strip '1400000US' prefix so GEO_ID matches GEOID\n",
    "    ON substr(a.GEO_ID, 10) = ce.GEOID;\n",
    "\"\"\"\n",
    "\n",
    "cur.execute(\"DROP TABLE IF EXISTS acs_with_mapping;\")  # refresh if re-running\n",
    "cur.execute(add_mapping)\n",
    "conn.commit()\n",
    "\n",
    "# Sanity check: preview results\n",
    "df = pd.read_sql_query(\"SELECT * FROM acs_with_mapping LIMIT 5;\", conn)\n",
    "df\n"
   ]
  },
  {
   "cell_type": "code",
   "execution_count": 30,
   "id": "4289c28f",
   "metadata": {},
   "outputs": [
    {
     "name": "stdout",
     "output_type": "stream",
     "text": [
      "                 GEO_ID                                        NAME  \\\n",
      "0  1400000US36005000100      Census Tract 1; Bronx County; New York   \n",
      "1  1400000US36005000200      Census Tract 2; Bronx County; New York   \n",
      "2  1400000US36005000400      Census Tract 4; Bronx County; New York   \n",
      "3  1400000US36005001600     Census Tract 16; Bronx County; New York   \n",
      "4  1400000US36005001901  Census Tract 19.01; Bronx County; New York   \n",
      "\n",
      "  median_income total_population  in_poverty  not_in_poverty  poverty_rate  \\\n",
      "0             -             3538           0               0           NaN   \n",
      "1        121171             5177        3301           19274      0.637628   \n",
      "2         98242             6481        1391           27016      0.214627   \n",
      "3         42957             6011        4219           21256      0.732592   \n",
      "4         67361             2401        3310            7261      1.381469   \n",
      "\n",
      "   BOROCODE BORONAME NTACODE                 NTANAME  CT2020  CTLABEL  \\\n",
      "0         2    Bronx  QN0151           Rikers Island     100     1.00   \n",
      "1         2    Bronx  BX0902  Soundview-Clason Point     200     2.00   \n",
      "2         2    Bronx  BX0902  Soundview-Clason Point     400     4.00   \n",
      "3         2    Bronx  BX0902  Soundview-Clason Point    1600    16.00   \n",
      "4         2    Bronx  BX0101  Mott Haven-Port Morris    1901    19.01   \n",
      "\n",
      "  CDTACODE                                           CDTANAME  \n",
      "0     QN01        QN01 Astoria-Queensbridge (CD 1 Equivalent)  \n",
      "1     BX09    BX09 Soundview-Parkchester (CD 9 Approximation)  \n",
      "2     BX09    BX09 Soundview-Parkchester (CD 9 Approximation)  \n",
      "3     BX09    BX09 Soundview-Parkchester (CD 9 Approximation)  \n",
      "4     BX01  BX01 Melrose-Mott Haven-Port Morris (CD 1 Appr...  \n"
     ]
    }
   ],
   "source": [
    "df = df[df[\"GEO_ID\"] != \"Geography\"]\n",
    "df = pd.read_sql_query(\"SELECT * FROM acs_with_mapping LIMIT 5;\", conn)\n",
    "print(df)\n"
   ]
  },
  {
   "cell_type": "markdown",
   "id": "7dc4085c",
   "metadata": {},
   "source": [
    "#### Now lets answer the question:\n",
    "- Map low-income and transit-dependent areas, and compare their bus performance and enforcement coverage.”\n",
    "- Basically I am answering this 2 ways: \n",
    "    1. Which neighborhoods (NTAs) are low-income (high poverty)?\n",
    "    2. Do those neighborhoods have ACE enforcement (bus routes with cameras)?\n",
    "- So my analysis = poverty rate by neighborhood vs ACE route coverage."
   ]
  },
  {
   "cell_type": "code",
   "execution_count": 33,
   "id": "f900a688",
   "metadata": {},
   "outputs": [
    {
     "data": {
      "text/html": [
       "<div>\n",
       "<style scoped>\n",
       "    .dataframe tbody tr th:only-of-type {\n",
       "        vertical-align: middle;\n",
       "    }\n",
       "\n",
       "    .dataframe tbody tr th {\n",
       "        vertical-align: top;\n",
       "    }\n",
       "\n",
       "    .dataframe thead th {\n",
       "        text-align: right;\n",
       "    }\n",
       "</style>\n",
       "<table border=\"1\" class=\"dataframe\">\n",
       "  <thead>\n",
       "    <tr style=\"text-align: right;\">\n",
       "      <th></th>\n",
       "      <th>cid</th>\n",
       "      <th>name</th>\n",
       "      <th>type</th>\n",
       "      <th>notnull</th>\n",
       "      <th>dflt_value</th>\n",
       "      <th>pk</th>\n",
       "    </tr>\n",
       "  </thead>\n",
       "  <tbody>\n",
       "    <tr>\n",
       "      <th>0</th>\n",
       "      <td>0</td>\n",
       "      <td>ROUTE</td>\n",
       "      <td>TEXT</td>\n",
       "      <td>0</td>\n",
       "      <td>None</td>\n",
       "      <td>0</td>\n",
       "    </tr>\n",
       "    <tr>\n",
       "      <th>1</th>\n",
       "      <td>1</td>\n",
       "      <td>PROGRAM</td>\n",
       "      <td>TEXT</td>\n",
       "      <td>0</td>\n",
       "      <td>None</td>\n",
       "      <td>0</td>\n",
       "    </tr>\n",
       "    <tr>\n",
       "      <th>2</th>\n",
       "      <td>2</td>\n",
       "      <td>IMPLEMENTATION_DATE</td>\n",
       "      <td>TEXT</td>\n",
       "      <td>0</td>\n",
       "      <td>None</td>\n",
       "      <td>0</td>\n",
       "    </tr>\n",
       "  </tbody>\n",
       "</table>\n",
       "</div>"
      ],
      "text/plain": [
       "   cid                 name  type  notnull dflt_value  pk\n",
       "0    0                ROUTE  TEXT        0       None   0\n",
       "1    1              PROGRAM  TEXT        0       None   0\n",
       "2    2  IMPLEMENTATION_DATE  TEXT        0       None   0"
      ]
     },
     "execution_count": 33,
     "metadata": {},
     "output_type": "execute_result"
    }
   ],
   "source": [
    "pd.read_sql_query(\"PRAGMA table_info(ace_routes);\", conn)\n"
   ]
  },
  {
   "cell_type": "code",
   "execution_count": 35,
   "id": "9c074a09",
   "metadata": {},
   "outputs": [
    {
     "name": "stdout",
     "output_type": "stream",
     "text": [
      "   BORONAME NTACODE                             NTANAME  avg_poverty_rate  \\\n",
      "0     Bronx  BX0601                          West Farms             1.965   \n",
      "1    Queens  QN0161             Sunnyside Yards (North)             1.805   \n",
      "2     Bronx  BX0603                             Belmont             1.785   \n",
      "3     Bronx  BX0101              Mott Haven-Port Morris             1.747   \n",
      "4  Brooklyn  BK0103                  South Williamsburg             1.738   \n",
      "5     Bronx  BX0302  Claremont Village-Claremont (East)             1.709   \n",
      "6     Bronx  BX0102                             Melrose             1.651   \n",
      "7     Bronx  BX0301                          Morrisania             1.633   \n",
      "8     Bronx  BX0602                             Tremont             1.574   \n",
      "9     Bronx  BX0503                     Fordham Heights             1.509   \n",
      "\n",
      "   avg_median_income  total_population  \n",
      "0            32027.0             17898  \n",
      "1                0.0                44  \n",
      "2            31272.0             36644  \n",
      "3            30757.0             56669  \n",
      "4            39131.0             46005  \n",
      "5            35974.0             22891  \n",
      "6            29941.0             40241  \n",
      "7            28042.0             35978  \n",
      "8            29925.0             32551  \n",
      "9            39041.0             32647  \n"
     ]
    }
   ],
   "source": [
    "# Step A (part 1): Poverty by NTA (without ACE yet)\n",
    "\n",
    "nta_poverty = \"\"\"\n",
    "CREATE TABLE IF NOT EXISTS nta_poverty AS\n",
    "SELECT\n",
    "    a.BORONAME,\n",
    "    a.NTACODE,\n",
    "    a.NTANAME,\n",
    "    ROUND(AVG(a.poverty_rate), 3) AS avg_poverty_rate,\n",
    "    ROUND(AVG(a.median_income), 0) AS avg_median_income,\n",
    "    SUM(a.total_population) AS total_population\n",
    "FROM acs_with_mapping a\n",
    "GROUP BY a.BORONAME, a.NTACODE, a.NTANAME\n",
    "ORDER BY avg_poverty_rate DESC;\n",
    "\"\"\"\n",
    "\n",
    "cur.execute(\"DROP TABLE IF EXISTS nta_poverty;\")  # refresh if re-running\n",
    "cur.execute(nta_poverty)\n",
    "\n",
    "# Sanity check: preview first few rows\n",
    "df = pd.read_sql_query(\"SELECT * FROM nta_poverty LIMIT 10;\", conn)\n",
    "print(df)\n"
   ]
  },
  {
   "cell_type": "code",
   "execution_count": 36,
   "id": "238b03c8",
   "metadata": {},
   "outputs": [],
   "source": [
    "df = pd.read_sql_query(\"SELECT * FROM nta_poverty;\", conn)\n",
    "df.to_csv(\"nta_poverty.csv\", index=False)\n"
   ]
  },
  {
   "cell_type": "code",
   "execution_count": null,
   "id": "8e83c083",
   "metadata": {},
   "outputs": [],
   "source": []
  }
 ],
 "metadata": {
  "kernelspec": {
   "display_name": "base",
   "language": "python",
   "name": "python3"
  },
  "language_info": {
   "codemirror_mode": {
    "name": "ipython",
    "version": 3
   },
   "file_extension": ".py",
   "mimetype": "text/x-python",
   "name": "python",
   "nbconvert_exporter": "python",
   "pygments_lexer": "ipython3",
   "version": "3.12.7"
  }
 },
 "nbformat": 4,
 "nbformat_minor": 5
}
