{
 "cells": [
  {
   "cell_type": "code",
   "execution_count": null,
   "id": "bd5b6c1b",
   "metadata": {},
   "outputs": [],
   "source": [
    "import pandas as pd\n",
    "import geopandas as gpd\n",
    "from shapely.geometry import LineString\n"
   ]
  },
  {
   "cell_type": "code",
   "execution_count": null,
   "id": "3b41dd5b",
   "metadata": {},
   "outputs": [
    {
     "name": "stdout",
     "output_type": "stream",
     "text": [
      "Processing gtfs_bx...\n"
     ]
    },
    {
     "name": "stderr",
     "output_type": "stream",
     "text": [
      "/var/folders/v2/9k8drrwj5h39kpr935vvx6j80000gn/T/ipykernel_26776/2761504567.py:31: DeprecationWarning: DataFrameGroupBy.apply operated on the grouping columns. This behavior is deprecated, and in a future version of pandas the grouping columns will be excluded from the operation. Either pass `include_groups=False` to exclude the groupings or explicitly select the grouping columns after groupby to silence this warning.\n",
      "  .apply(lambda x: LineString(zip(x.shape_pt_lon, x.shape_pt_lat)))\n"
     ]
    },
    {
     "name": "stdout",
     "output_type": "stream",
     "text": [
      "Processing gtfs_q...\n"
     ]
    },
    {
     "name": "stderr",
     "output_type": "stream",
     "text": [
      "/var/folders/v2/9k8drrwj5h39kpr935vvx6j80000gn/T/ipykernel_26776/2761504567.py:31: DeprecationWarning: DataFrameGroupBy.apply operated on the grouping columns. This behavior is deprecated, and in a future version of pandas the grouping columns will be excluded from the operation. Either pass `include_groups=False` to exclude the groupings or explicitly select the grouping columns after groupby to silence this warning.\n",
      "  .apply(lambda x: LineString(zip(x.shape_pt_lon, x.shape_pt_lat)))\n"
     ]
    },
    {
     "name": "stdout",
     "output_type": "stream",
     "text": [
      "Processing gtfs_si...\n"
     ]
    },
    {
     "name": "stderr",
     "output_type": "stream",
     "text": [
      "/var/folders/v2/9k8drrwj5h39kpr935vvx6j80000gn/T/ipykernel_26776/2761504567.py:31: DeprecationWarning: DataFrameGroupBy.apply operated on the grouping columns. This behavior is deprecated, and in a future version of pandas the grouping columns will be excluded from the operation. Either pass `include_groups=False` to exclude the groupings or explicitly select the grouping columns after groupby to silence this warning.\n",
      "  .apply(lambda x: LineString(zip(x.shape_pt_lon, x.shape_pt_lat)))\n",
      "/var/folders/v2/9k8drrwj5h39kpr935vvx6j80000gn/T/ipykernel_26776/2761504567.py:31: DeprecationWarning: DataFrameGroupBy.apply operated on the grouping columns. This behavior is deprecated, and in a future version of pandas the grouping columns will be excluded from the operation. Either pass `include_groups=False` to exclude the groupings or explicitly select the grouping columns after groupby to silence this warning.\n",
      "  .apply(lambda x: LineString(zip(x.shape_pt_lon, x.shape_pt_lat)))\n"
     ]
    },
    {
     "name": "stdout",
     "output_type": "stream",
     "text": [
      "Processing gtfs_m...\n",
      "Processing gtfs_b...\n"
     ]
    },
    {
     "name": "stderr",
     "output_type": "stream",
     "text": [
      "/var/folders/v2/9k8drrwj5h39kpr935vvx6j80000gn/T/ipykernel_26776/2761504567.py:31: DeprecationWarning: DataFrameGroupBy.apply operated on the grouping columns. This behavior is deprecated, and in a future version of pandas the grouping columns will be excluded from the operation. Either pass `include_groups=False` to exclude the groupings or explicitly select the grouping columns after groupby to silence this warning.\n",
      "  .apply(lambda x: LineString(zip(x.shape_pt_lon, x.shape_pt_lat)))\n"
     ]
    },
    {
     "name": "stdout",
     "output_type": "stream",
     "text": [
      "✅ Done! Output saved as bus_routes_to_nta.csv\n"
     ]
    }
   ],
   "source": [
    "import os\n",
    "import pandas as pd\n",
    "import geopandas as gpd\n",
    "from shapely.geometry import LineString\n",
    "\n",
    "# Base directory where all gtfs folders live\n",
    "base_dir = \"/Users/ayemaq/Desktop/Datathon\"\n",
    "\n",
    "# list of gtfs directoiesr\n",
    "gtfs_dirs = [\"gtfs_bx\", \"gtfs_q\", \"gtfs_si\", \"gtfs_m\", \"gtfs_b\"]\n",
    "\n",
    "# Load NTA shapefile\n",
    "nta = gpd.read_file(\"/Users/ayemaq/Desktop/Datathon/nynta2020_25c/nynta2020.shp\")\n",
    "nta = nta.to_crs(epsg=4326)\n",
    "\n",
    "all_results = []\n",
    "\n",
    "for gtfs_dir in gtfs_dirs:\n",
    "    folder_path = os.path.join(base_dir, gtfs_dir)\n",
    "    print(f\"Processing {gtfs_dir}...\")\n",
    "    \n",
    "    # Load GTFS core files\n",
    "    shapes = pd.read_csv(os.path.join(folder_path, \"shapes.txt\"))\n",
    "    routes = pd.read_csv(os.path.join(folder_path, \"routes.txt\"))\n",
    "    trips = pd.read_csv(os.path.join(folder_path, \"trips.txt\"))\n",
    "    \n",
    "    # Convert shapes into LineStrings\n",
    "    shape_geoms = (\n",
    "        shapes.sort_values([\"shape_id\", \"shape_pt_sequence\"])\n",
    "        .groupby(\"shape_id\")\n",
    "        .apply(lambda x: LineString(zip(x.shape_pt_lon, x.shape_pt_lat)))\n",
    "        .reset_index(name=\"geometry\")\n",
    "    )\n",
    "    shapes_gdf = gpd.GeoDataFrame(shape_geoms, geometry=\"geometry\", crs=\"EPSG:4326\")\n",
    "    \n",
    "    # Link shape -> trip -> route\n",
    "    trip_shapes = trips[[\"route_id\", \"shape_id\"]].drop_duplicates()\n",
    "    routes_shapes = trip_shapes.merge(routes[[\"route_id\", \"route_short_name\"]], on=\"route_id\")\n",
    "    routes_shapes = routes_shapes.merge(shapes_gdf, on=\"shape_id\")\n",
    "    \n",
    "    bus_routes_gdf = gpd.GeoDataFrame(routes_shapes, geometry=\"geometry\", crs=\"EPSG:4326\")\n",
    "    \n",
    "    # Spatial join with NTA boundaries\n",
    "    joined = gpd.sjoin(bus_routes_gdf, nta, how=\"inner\", predicate=\"intersects\")\n",
    "    \n",
    "    # Keep relevant fields\n",
    "    result = joined[[\"route_short_name\", \"NTA2020\", \"NTAName\", \"BoroName\"]].drop_duplicates()\n",
    "    result[\"borough_file\"] = gtfs_dir  # track source\n",
    "    \n",
    "    all_results.append(result)\n",
    "\n",
    "# Combine all boroughs\n",
    "final_df = pd.concat(all_results, ignore_index=True)\n",
    "final_df.to_csv(os.path.join(base_dir, \"bus_routes_to_nta.csv\"), index=False)\n",
    "\n",
    "print(\"✅ Done! Output saved as bus_routes_to_nta.csv\")"
   ]
  },
  {
   "cell_type": "code",
   "execution_count": 3,
   "id": "985d4614",
   "metadata": {},
   "outputs": [
    {
     "name": "stdout",
     "output_type": "stream",
     "text": [
      "     route_short_name NTA2020                   NTAName  BoroName borough_file\n",
      "2430               B6  BK1103          Gravesend (West)  Brooklyn       gtfs_b\n",
      "2431               B6  BK1204   Mapleton-Midwood (West)  Brooklyn       gtfs_b\n",
      "2432               B6  BK0503    East New York-New Lots  Brooklyn       gtfs_b\n",
      "2433              B41  BK1891  Marine Park-Plumb Island  Brooklyn       gtfs_b\n",
      "2434              B41  BK1502                   Madison  Brooklyn       gtfs_b\n",
      "Unique bus routes: 253\n",
      "Unique NTAs: 244\n"
     ]
    }
   ],
   "source": [
    "import pandas as pd\n",
    "\n",
    "# Load the new file\n",
    "df = pd.read_csv(\"/Users/ayemaq/Desktop/Datathon/bus_routes_to_nta.csv\")\n",
    "\n",
    "# Peek at the data\n",
    "print(df.tail())\n",
    "\n",
    "# See how many unique routes\n",
    "print(\"Unique bus routes:\", df['route_short_name'].nunique())\n",
    "\n",
    "# See how many NTAs are covered\n",
    "print(\"Unique NTAs:\", df['NTA2020'].nunique())\n"
   ]
  },
  {
   "cell_type": "code",
   "execution_count": null,
   "id": "039fd385",
   "metadata": {},
   "outputs": [
    {
     "name": "stdout",
     "output_type": "stream",
     "text": [
      "   BORONAME NTACODE                  NTANAME  avg_poverty_rate  \\\n",
      "0     Bronx  BX0601               West Farms             1.965   \n",
      "1    Queens  QN0161  Sunnyside Yards (North)             1.805   \n",
      "2     Bronx  BX0603                  Belmont             1.785   \n",
      "3     Bronx  BX0101   Mott Haven-Port Morris             1.747   \n",
      "4  Brooklyn  BK0103       South Williamsburg             1.738   \n",
      "\n",
      "   avg_median_income  total_population  \n",
      "0            32027.0             17898  \n",
      "1                0.0                44  \n",
      "2            31272.0             36644  \n",
      "3            30757.0             56669  \n",
      "4            39131.0             46005  \n",
      "count    180.000000\n",
      "mean       0.694217\n",
      "std        0.427974\n",
      "min        0.000000\n",
      "25%        0.374250\n",
      "50%        0.605000\n",
      "75%        0.989750\n",
      "max        1.965000\n",
      "Name: avg_poverty_rate, dtype: float64\n",
      "Max poverty rate: 1.965\n",
      "                              NTANAME  avg_poverty_rate\n",
      "0                          West Farms             1.965\n",
      "1             Sunnyside Yards (North)             1.805\n",
      "2                             Belmont             1.785\n",
      "3              Mott Haven-Port Morris             1.747\n",
      "4                  South Williamsburg             1.738\n",
      "5  Claremont Village-Claremont (East)             1.709\n",
      "6                             Melrose             1.651\n",
      "7                          Morrisania             1.633\n",
      "8                             Tremont             1.574\n",
      "9                     Fordham Heights             1.509\n"
     ]
    }
   ],
   "source": [
    "poverty = pd.read_csv(\"/Users/ayemaq/Desktop/Datathon/nta_poverty.csv\")\n",
    "poverty.head()\n",
    "\n",
    "# Summary stats\n",
    "print(poverty[\"avg_poverty_rate\"].describe())\n",
    "# Check max values\n",
    "print(\"Max poverty rate:\", poverty[\"avg_poverty_rate\"].max())\n",
    "\n",
    "print(poverty[[\"NTANAME\", \"avg_poverty_rate\"]].sort_values(\"avg_poverty_rate\", ascending=False).head(10))\n"
   ]
  },
  {
   "cell_type": "code",
   "execution_count": null,
   "id": "ad6ad5ca",
   "metadata": {},
   "outputs": [],
   "source": []
  }
 ],
 "metadata": {
  "kernelspec": {
   "display_name": "base",
   "language": "python",
   "name": "python3"
  },
  "language_info": {
   "codemirror_mode": {
    "name": "ipython",
    "version": 3
   },
   "file_extension": ".py",
   "mimetype": "text/x-python",
   "name": "python",
   "nbconvert_exporter": "python",
   "pygments_lexer": "ipython3",
   "version": "3.12.9"
  }
 },
 "nbformat": 4,
 "nbformat_minor": 5
}
