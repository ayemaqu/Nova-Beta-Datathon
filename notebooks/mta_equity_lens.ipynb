{
 "cells": [
  {
   "cell_type": "code",
   "execution_count": 1,
   "id": "dfbc9ead",
   "metadata": {},
   "outputs": [],
   "source": [
    "import pandas as pd\n",
    "import sqlite3 "
   ]
  },
  {
   "cell_type": "code",
   "execution_count": 2,
   "id": "12a32de9",
   "metadata": {},
   "outputs": [],
   "source": [
    "# connect to one shared database\n",
    "conn = sqlite3.connect(\"/Users/ayemaq/Desktop/Datathon/mta_equity.db\")"
   ]
  },
  {
   "cell_type": "code",
   "execution_count": 3,
   "id": "e1565e4f",
   "metadata": {},
   "outputs": [
    {
     "name": "stdout",
     "output_type": "stream",
     "text": [
      "✅ Census equivalency loaded: 2327 rows\n"
     ]
    }
   ],
   "source": [
    "# --- Census equivalency ---\n",
    "df = pd.read_csv(\"/Users/ayemaq/Desktop/Datathon/2020_Census_Tracts_to_2020_NTAs_and_CDTAs_Equivalency_20250923.csv\",\n",
    "                 sep=None, engine=\"python\", on_bad_lines=\"skip\")\n",
    "df.to_sql(\"census_equivalency\", conn, if_exists=\"replace\", index=False)\n",
    "print(\"✅ Census equivalency loaded:\", len(df), \"rows\")"
   ]
  },
  {
   "cell_type": "code",
   "execution_count": 4,
   "id": "17f4828b",
   "metadata": {},
   "outputs": [
    {
     "name": "stdout",
     "output_type": "stream",
     "text": [
      "✅ Poverty loaded: 2016 rows\n"
     ]
    }
   ],
   "source": [
    "# --- Poverty ---\n",
    "df = pd.read_csv(\"/Users/ayemaq/Desktop/Datathon/poverty.csv\",\n",
    "                 sep=None, engine=\"python\", on_bad_lines=\"skip\", skiprows=2)\n",
    "df.to_sql(\"poverty\", conn, if_exists=\"replace\", index=False)\n",
    "print(\"✅ Poverty loaded:\", len(df), \"rows\")"
   ]
  },
  {
   "cell_type": "code",
   "execution_count": 5,
   "id": "33a6b43a",
   "metadata": {},
   "outputs": [
    {
     "data": {
      "text/plain": [
       "2018"
      ]
     },
     "execution_count": 5,
     "metadata": {},
     "output_type": "execute_result"
    }
   ],
   "source": [
    "## Population\n",
    "df = pd.read_csv(\"/Users/ayemaq/Desktop/Datathon/total_population.csv\",\n",
    "                 sep=None, engine=\"python\", on_bad_lines=\"skip\")\n",
    "df.to_sql(\"population\", conn, if_exists=\"replace\", index=False)\n"
   ]
  },
  {
   "cell_type": "code",
   "execution_count": 6,
   "id": "9727747e",
   "metadata": {},
   "outputs": [
    {
     "name": "stdout",
     "output_type": "stream",
     "text": [
      "✅ ACE routes loaded: 2018 rows\n"
     ]
    }
   ],
   "source": [
    "# --- ACE routes ---\n",
    "df = pd.read_csv(\"/Users/ayemaq/Desktop/Datathon/median.csv\",\n",
    "                 sep=None, engine=\"python\", on_bad_lines=\"skip\")\n",
    "df.to_sql(\"ace_routes\", conn, if_exists=\"replace\", index=False)\n",
    "print(\"✅ ACE routes loaded:\", len(df), \"rows\")"
   ]
  },
  {
   "cell_type": "code",
   "execution_count": 7,
   "id": "5e3ff903",
   "metadata": {},
   "outputs": [
    {
     "data": {
      "text/plain": [
       "2018"
      ]
     },
     "execution_count": 7,
     "metadata": {},
     "output_type": "execute_result"
    }
   ],
   "source": [
    "df = pd.read_csv(\n",
    "    \"/Users/ayemaq/Desktop/Datathon/median.csv\",\n",
    "    sep=None,\n",
    "    engine=\"python\",\n",
    "    on_bad_lines=\"skip\"\n",
    ")\n",
    "\n",
    "# rename the column\n",
    "df = df.rename(columns={\"GEO_ID\": \"geo_id\"})\n",
    "\n",
    "df.to_sql(\"median_income\", conn, if_exists=\"replace\", index=False)\n"
   ]
  },
  {
   "cell_type": "code",
   "execution_count": 8,
   "id": "aec8ee52",
   "metadata": {},
   "outputs": [],
   "source": [
    "df.columns = df.columns.str.strip().str.replace('\"', '').str.upper()\n"
   ]
  },
  {
   "cell_type": "code",
   "execution_count": 9,
   "id": "e41c452d",
   "metadata": {},
   "outputs": [
    {
     "name": "stdout",
     "output_type": "stream",
     "text": [
      "✅ median_income loaded with columns: ['\\ufeffGEO_ID', 'NAME', 'B19013_001E', 'B19013_001M', 'UNNAMED:_4']\n",
      "✅ poverty loaded with columns: ['\\ufeffGEO_ID', 'NAME', 'B17021_001E', 'B17021_001M', 'B17021_002E', 'B17021_002M', 'B17021_003E', 'B17021_003M', 'B17021_004E', 'B17021_004M', 'B17021_005E', 'B17021_005M', 'B17021_006E', 'B17021_006M', 'B17021_007E', 'B17021_007M', 'B17021_008E', 'B17021_008M', 'B17021_009E', 'B17021_009M', 'B17021_010E', 'B17021_010M', 'B17021_011E', 'B17021_011M', 'B17021_012E', 'B17021_012M', 'B17021_013E', 'B17021_013M', 'B17021_014E', 'B17021_014M', 'B17021_015E', 'B17021_015M', 'B17021_016E', 'B17021_016M', 'B17021_017E', 'B17021_017M', 'B17021_018E', 'B17021_018M', 'B17021_019E', 'B17021_019M', 'B17021_020E', 'B17021_020M', 'B17021_021E', 'B17021_021M', 'B17021_022E', 'B17021_022M', 'B17021_023E', 'B17021_023M', 'B17021_024E', 'B17021_024M', 'B17021_025E', 'B17021_025M', 'B17021_026E', 'B17021_026M', 'B17021_027E', 'B17021_027M', 'B17021_028E', 'B17021_028M', 'B17021_029E', 'B17021_029M', 'B17021_030E', 'B17021_030M', 'B17021_031E', 'B17021_031M', 'B17021_032E', 'B17021_032M', 'B17021_033E', 'B17021_033M', 'B17021_034E', 'B17021_034M', 'B17021_035E', 'B17021_035M', 'UNNAMED:_72']\n",
      "✅ population loaded with columns: ['\\ufeffGEO_ID', 'NAME', 'B01003_001E', 'B01003_001M', 'UNNAMED:_4']\n",
      "✅ ace_routes loaded with columns: ['ROUTE', 'PROGRAM', 'IMPLEMENTATION_DATE']\n",
      "✅ census_equivalency loaded with columns: ['GEOID', 'COUNTYFIPS', 'BOROCODE', 'BORONAME', 'BOROCT2020', 'CT2020', 'CTLABEL', 'NTACODE', 'NTATYPE', 'NTANAME', 'NTAABBREV', 'CDTACODE', 'CDTATYPE', 'CDTANAME']\n"
     ]
    }
   ],
   "source": [
    "import pandas as pd\n",
    "import sqlite3\n",
    "\n",
    "# Reconnect to DB\n",
    "conn = sqlite3.connect(\"/Users/ayemaq/Desktop/Datathon/mta_equity.db\")\n",
    "\n",
    "# Function to load, clean, and save\n",
    "def load_clean_save(path, table_name):\n",
    "    df = pd.read_csv(path, sep=None, engine=\"python\", on_bad_lines=\"skip\")\n",
    "    \n",
    "    # Clean up column names\n",
    "    df.columns = (\n",
    "        df.columns.str.strip()\n",
    "                  .str.replace('\"', '')   # remove quotes\n",
    "                  .str.replace(\"'\", \"\")   # remove single quotes\n",
    "                  .str.replace(\" \", \"_\")  # replace spaces with underscores\n",
    "                  .str.upper()            # make all uppercase\n",
    "    )\n",
    "    \n",
    "    # Save to SQLite\n",
    "    df.to_sql(table_name, conn, if_exists=\"replace\", index=False)\n",
    "    print(f\"✅ {table_name} loaded with columns: {list(df.columns)}\")\n",
    "    return df\n",
    "\n",
    "# Apply to all your datasets\n",
    "median_income = load_clean_save(\"/Users/ayemaq/Desktop/Datathon/median.csv\", \"median_income\")\n",
    "poverty = load_clean_save(\"/Users/ayemaq/Desktop/Datathon/poverty.csv\", \"poverty\")\n",
    "population = load_clean_save(\"/Users/ayemaq/Desktop/Datathon/total_population.csv\", \"population\")\n",
    "ace_routes = load_clean_save(\"/Users/ayemaq/Desktop/Datathon/ace_routes.csv\", \"ace_routes\")\n",
    "census_equivalency = load_clean_save(\"/Users/ayemaq/Desktop/Datathon/2020_Census_Tracts_to_2020_NTAs_and_CDTAs_Equivalency_20250923.csv\", \"census_equivalency\")\n"
   ]
  },
  {
   "cell_type": "code",
   "execution_count": 10,
   "id": "23662d5c",
   "metadata": {},
   "outputs": [
    {
     "name": "stdout",
     "output_type": "stream",
     "text": [
      "\n",
      "median_income columns:\n",
      "           name  type\n",
      "0      ﻿GEO_ID  TEXT\n",
      "1         NAME  TEXT\n",
      "2  B19013_001E  TEXT\n",
      "3  B19013_001M  TEXT\n",
      "4   UNNAMED:_4  REAL\n",
      "\n",
      "poverty columns:\n",
      "            name  type\n",
      "0       ﻿GEO_ID  TEXT\n",
      "1          NAME  TEXT\n",
      "2   B17021_001E  TEXT\n",
      "3   B17021_001M  TEXT\n",
      "4   B17021_002E  TEXT\n",
      "..          ...   ...\n",
      "68  B17021_034E  TEXT\n",
      "69  B17021_034M  TEXT\n",
      "70  B17021_035E  TEXT\n",
      "71  B17021_035M  TEXT\n",
      "72  UNNAMED:_72  REAL\n",
      "\n",
      "[73 rows x 2 columns]\n",
      "\n",
      "population columns:\n",
      "           name  type\n",
      "0      ﻿GEO_ID  TEXT\n",
      "1         NAME  TEXT\n",
      "2  B01003_001E  TEXT\n",
      "3  B01003_001M  TEXT\n",
      "4   UNNAMED:_4  REAL\n",
      "\n",
      "ace_routes columns:\n",
      "                   name  type\n",
      "0                ROUTE  TEXT\n",
      "1              PROGRAM  TEXT\n",
      "2  IMPLEMENTATION_DATE  TEXT\n",
      "\n",
      "census_equivalency columns:\n",
      "           name     type\n",
      "0        GEOID  INTEGER\n",
      "1   COUNTYFIPS  INTEGER\n",
      "2     BOROCODE  INTEGER\n",
      "3     BORONAME     TEXT\n",
      "4   BOROCT2020  INTEGER\n",
      "5       CT2020  INTEGER\n",
      "6      CTLABEL     REAL\n",
      "7      NTACODE     TEXT\n",
      "8      NTATYPE  INTEGER\n",
      "9      NTANAME     TEXT\n",
      "10   NTAABBREV     TEXT\n",
      "11    CDTACODE     TEXT\n",
      "12    CDTATYPE     TEXT\n",
      "13    CDTANAME     TEXT\n"
     ]
    }
   ],
   "source": [
    "for table in [\"median_income\", \"poverty\", \"population\", \"ace_routes\", \"census_equivalency\"]:\n",
    "    cols = pd.read_sql(f\"PRAGMA table_info({table});\", conn)\n",
    "    print(f\"\\n{table} columns:\\n\", cols[['name', 'type']])\n"
   ]
  },
  {
   "cell_type": "code",
   "execution_count": 11,
   "id": "c16f3539",
   "metadata": {},
   "outputs": [
    {
     "name": "stdout",
     "output_type": "stream",
     "text": [
      "\n",
      "Checking table: poverty_simple\n",
      "\n",
      "Checking table: median_income\n",
      " - Renaming '\\ufeffGEO_ID' → 'GEO_ID'\n",
      " - Renaming 'UNNAMED:_4' → 'UNNAMED__4'\n",
      "\n",
      "Checking table: poverty\n",
      " - Renaming '\\ufeffGEO_ID' → 'GEO_ID'\n",
      " - Renaming 'UNNAMED:_72' → 'UNNAMED__72'\n",
      "\n",
      "Checking table: population\n",
      " - Renaming '\\ufeffGEO_ID' → 'GEO_ID'\n",
      " - Renaming 'UNNAMED:_4' → 'UNNAMED__4'\n",
      "\n",
      "Checking table: ace_routes\n",
      "\n",
      "Checking table: census_equivalency\n",
      "\n",
      "✅ All column names cleaned!\n"
     ]
    }
   ],
   "source": [
    "def clean_column_names(db_path):\n",
    "    conn = sqlite3.connect(db_path)\n",
    "    cur = conn.cursor()\n",
    "\n",
    "    # get all table names\n",
    "    cur.execute(\"SELECT name FROM sqlite_master WHERE type='table';\")\n",
    "    tables = [row[0] for row in cur.fetchall()]\n",
    "\n",
    "    for table in tables:\n",
    "        print(f\"\\nChecking table: {table}\")\n",
    "        cur.execute(f\"PRAGMA table_info({table});\")\n",
    "        cols = cur.fetchall()\n",
    "\n",
    "        for col in cols:\n",
    "            old_name = col[1]\n",
    "            clean_name = old_name.strip().replace(\" \", \"_\").replace(\":\", \"_\")\n",
    "\n",
    "            # remove BOM if present\n",
    "            clean_name = clean_name.replace(\"\\ufeff\", \"\")\n",
    "\n",
    "            if old_name != clean_name:\n",
    "                print(f\" - Renaming {old_name!r} → {clean_name!r}\")\n",
    "                cur.execute(f'ALTER TABLE \"{table}\" RENAME COLUMN \"{old_name}\" TO \"{clean_name}\";')\n",
    "\n",
    "    conn.commit()\n",
    "    conn.close()\n",
    "    print(\"\\n✅ All column names cleaned!\")\n",
    "\n",
    "# Run it\n",
    "clean_column_names(\"mta_equity.db\")\n"
   ]
  },
  {
   "cell_type": "code",
   "execution_count": null,
   "id": "0b0994c3",
   "metadata": {},
   "outputs": [],
   "source": []
  },
  {
   "cell_type": "code",
   "execution_count": null,
   "id": "4aaf174d",
   "metadata": {},
   "outputs": [],
   "source": []
  }
 ],
 "metadata": {
  "kernelspec": {
   "display_name": "base",
   "language": "python",
   "name": "python3"
  },
  "language_info": {
   "codemirror_mode": {
    "name": "ipython",
    "version": 3
   },
   "file_extension": ".py",
   "mimetype": "text/x-python",
   "name": "python",
   "nbconvert_exporter": "python",
   "pygments_lexer": "ipython3",
   "version": "3.12.7"
  }
 },
 "nbformat": 4,
 "nbformat_minor": 5
}
